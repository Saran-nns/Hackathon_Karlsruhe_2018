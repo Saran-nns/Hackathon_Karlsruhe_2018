{
 "cells": [
  {
   "cell_type": "markdown",
   "metadata": {},
   "source": [
    "### DATA PREPROCESING"
   ]
  },
  {
   "cell_type": "code",
   "execution_count": 1,
   "metadata": {},
   "outputs": [],
   "source": [
    "import pandas as pd"
   ]
  },
  {
   "cell_type": "code",
   "execution_count": 2,
   "metadata": {},
   "outputs": [],
   "source": [
    "# Read file\n",
    "# tsv_file='FILENAME.tsv'\n",
    "\n",
    "# # Create datafram\n",
    "# df=pd.read_table(tsv_file,sep='\\t')\n",
    "\n",
    "# ### COnvert datetime into standard format\n",
    "# df['timestamp'] = pd.to_datetime(df['timestamp'],unit='ms')"
   ]
  },
  {
   "cell_type": "code",
   "execution_count": 3,
   "metadata": {},
   "outputs": [],
   "source": [
    "# ### COnvert date time into standard format\n",
    "# df['timestamp'] = pd.to_datetime(df['timestamp'],unit='ms')"
   ]
  },
  {
   "cell_type": "markdown",
   "metadata": {},
   "source": [
    "# SAVE THE DATAFRAME AS CSV"
   ]
  },
  {
   "cell_type": "code",
   "execution_count": 4,
   "metadata": {},
   "outputs": [],
   "source": [
    "# df.to_csv('position_history_new_starts.csv', sep=',')"
   ]
  },
  {
   "cell_type": "code",
   "execution_count": 5,
   "metadata": {},
   "outputs": [],
   "source": [
    "df = pd.read_csv('position_history_new_starts.csv')"
   ]
  },
  {
   "cell_type": "code",
   "execution_count": 6,
   "metadata": {},
   "outputs": [],
   "source": [
    "#### 'id' Column provide no information, hence kick it out of dataframe\n",
    "\n",
    "df = df.loc[:, ~df.columns.str.contains('^Unnamed')]\n",
    "del df['id']"
   ]
  },
  {
   "cell_type": "code",
   "execution_count": 7,
   "metadata": {},
   "outputs": [
    {
     "data": {
      "text/html": [
       "<div>\n",
       "<style scoped>\n",
       "    .dataframe tbody tr th:only-of-type {\n",
       "        vertical-align: middle;\n",
       "    }\n",
       "\n",
       "    .dataframe tbody tr th {\n",
       "        vertical-align: top;\n",
       "    }\n",
       "\n",
       "    .dataframe thead th {\n",
       "        text-align: right;\n",
       "    }\n",
       "</style>\n",
       "<table border=\"1\" class=\"dataframe\">\n",
       "  <thead>\n",
       "    <tr style=\"text-align: right;\">\n",
       "      <th></th>\n",
       "      <th>address</th>\n",
       "      <th>x</th>\n",
       "      <th>y</th>\n",
       "      <th>z</th>\n",
       "      <th>timestamp</th>\n",
       "    </tr>\n",
       "  </thead>\n",
       "  <tbody>\n",
       "    <tr>\n",
       "      <th>0</th>\n",
       "      <td>-359037136983245745</td>\n",
       "      <td>9.85794</td>\n",
       "      <td>-0.549547</td>\n",
       "      <td>1.852340</td>\n",
       "      <td>2018-07-01 00:01:19.184</td>\n",
       "    </tr>\n",
       "    <tr>\n",
       "      <th>1</th>\n",
       "      <td>-359037136983245745</td>\n",
       "      <td>9.78791</td>\n",
       "      <td>-0.549547</td>\n",
       "      <td>1.846210</td>\n",
       "      <td>2018-07-01 00:01:20.444</td>\n",
       "    </tr>\n",
       "    <tr>\n",
       "      <th>2</th>\n",
       "      <td>-359037136983245745</td>\n",
       "      <td>9.69488</td>\n",
       "      <td>-0.549547</td>\n",
       "      <td>1.846210</td>\n",
       "      <td>2018-07-01 00:01:21.720</td>\n",
       "    </tr>\n",
       "    <tr>\n",
       "      <th>3</th>\n",
       "      <td>4751451578702838656</td>\n",
       "      <td>9.76520</td>\n",
       "      <td>-0.279698</td>\n",
       "      <td>1.446820</td>\n",
       "      <td>2018-07-01 00:01:24.146</td>\n",
       "    </tr>\n",
       "    <tr>\n",
       "      <th>4</th>\n",
       "      <td>-145401774635637016</td>\n",
       "      <td>9.24891</td>\n",
       "      <td>-0.606032</td>\n",
       "      <td>0.984861</td>\n",
       "      <td>2018-07-01 00:01:24.181</td>\n",
       "    </tr>\n",
       "  </tbody>\n",
       "</table>\n",
       "</div>"
      ],
      "text/plain": [
       "               address        x         y         z                timestamp\n",
       "0  -359037136983245745  9.85794 -0.549547  1.852340  2018-07-01 00:01:19.184\n",
       "1  -359037136983245745  9.78791 -0.549547  1.846210  2018-07-01 00:01:20.444\n",
       "2  -359037136983245745  9.69488 -0.549547  1.846210  2018-07-01 00:01:21.720\n",
       "3  4751451578702838656  9.76520 -0.279698  1.446820  2018-07-01 00:01:24.146\n",
       "4  -145401774635637016  9.24891 -0.606032  0.984861  2018-07-01 00:01:24.181"
      ]
     },
     "execution_count": 7,
     "metadata": {},
     "output_type": "execute_result"
    }
   ],
   "source": [
    "df.head()"
   ]
  },
  {
   "cell_type": "code",
   "execution_count": 8,
   "metadata": {},
   "outputs": [],
   "source": [
    "### Choose the addresses with maximum appearances in the dataframe\n",
    "\n",
    "max_addresses = df['address'].value_counts()[:10]\n",
    "max_addresses = dict(max_addresses)\n",
    "addresses = [] \n",
    "for key in max_addresses.keys():\n",
    "    addresses.append(key)\n",
    "    \n",
    "df_train = df[df['address'].isin(addresses)]"
   ]
  },
  {
   "cell_type": "code",
   "execution_count": 9,
   "metadata": {},
   "outputs": [
    {
     "data": {
      "text/plain": [
       "array([ -359037136983245745, -8762245971590074211, -7573228149069718550,\n",
       "       -6958684199778844888, -9100101032468893356, -6196490120761152012,\n",
       "        5106149975160207938, -1864515622891090337,  8405123468908889237,\n",
       "       -4360601383218869533], dtype=int64)"
      ]
     },
     "execution_count": 9,
     "metadata": {},
     "output_type": "execute_result"
    }
   ],
   "source": [
    "# df_train.head()\n",
    "df_train['address'].unique()"
   ]
  },
  {
   "cell_type": "code",
   "execution_count": 10,
   "metadata": {},
   "outputs": [
    {
     "name": "stdout",
     "output_type": "stream",
     "text": [
      "<class 'pandas.core.frame.DataFrame'>\n",
      "Int64Index: 1250536 entries, 0 to 5019363\n",
      "Data columns (total 5 columns):\n",
      "address      1250536 non-null int64\n",
      "x            1250536 non-null float64\n",
      "y            1250536 non-null float64\n",
      "z            1250536 non-null float64\n",
      "timestamp    1250536 non-null object\n",
      "dtypes: float64(3), int64(1), object(1)\n",
      "memory usage: 57.2+ MB\n"
     ]
    }
   ],
   "source": [
    "df_train.info()"
   ]
  },
  {
   "cell_type": "code",
   "execution_count": 11,
   "metadata": {},
   "outputs": [],
   "source": [
    "# df_train.to_csv('position_history_10.csv', sep=',')"
   ]
  },
  {
   "cell_type": "code",
   "execution_count": 4,
   "metadata": {},
   "outputs": [],
   "source": [
    "df_train = pd.read_csv('position_history_10.csv')"
   ]
  },
  {
   "cell_type": "markdown",
   "metadata": {},
   "source": [
    "### Divide the data frame into different chunks based on addresses\n"
   ]
  },
  {
   "cell_type": "code",
   "execution_count": 6,
   "metadata": {},
   "outputs": [],
   "source": [
    "df1 = df_train.copy()\n",
    "\n",
    "max_addresses = df1['address'].value_counts()[:10]\n",
    "max_addresses = dict(max_addresses)\n",
    "addresses = [] \n",
    "for key in max_addresses.keys():\n",
    "    addresses.append(key)"
   ]
  },
  {
   "cell_type": "code",
   "execution_count": 7,
   "metadata": {},
   "outputs": [],
   "source": [
    "df_0 = df1[df1['address'] == addresses[0]]\n",
    "df_1 = df1[df1['address'] == addresses[1]]"
   ]
  },
  {
   "cell_type": "code",
   "execution_count": 8,
   "metadata": {},
   "outputs": [],
   "source": [
    "df_2 = df1[df1['address'] == addresses[2]]\n",
    "df_3 = df1[df1['address'] == addresses[3]]\n",
    "df_4 = df1[df1['address'] == addresses[4]]\n",
    "df_5 = df1[df1['address'] == addresses[5]]\n",
    "df_6 = df1[df1['address'] == addresses[6]]\n",
    "df_7 = df1[df1['address'] == addresses[7]]\n",
    "df_8 = df1[df1['address'] == addresses[8]]\n",
    "df_9 = df1[df1['address'] == addresses[9]]\n"
   ]
  },
  {
   "cell_type": "code",
   "execution_count": 16,
   "metadata": {},
   "outputs": [],
   "source": [
    "df_0.to_csv('df_0.csv', sep=',')"
   ]
  },
  {
   "cell_type": "code",
   "execution_count": 17,
   "metadata": {},
   "outputs": [],
   "source": [
    "df_1.to_csv('df_1.csv', sep=',')"
   ]
  },
  {
   "cell_type": "code",
   "execution_count": 18,
   "metadata": {},
   "outputs": [],
   "source": [
    "df_2.to_csv('df_2.csv', sep=',')"
   ]
  },
  {
   "cell_type": "code",
   "execution_count": 19,
   "metadata": {},
   "outputs": [],
   "source": [
    "df_3.to_csv('df_3.csv', sep=',')"
   ]
  },
  {
   "cell_type": "code",
   "execution_count": 20,
   "metadata": {},
   "outputs": [],
   "source": [
    "df_4.to_csv('df_4.csv', sep=',')"
   ]
  },
  {
   "cell_type": "code",
   "execution_count": null,
   "metadata": {},
   "outputs": [],
   "source": [
    "df_5.to_csv('df_5.csv', sep=',')"
   ]
  },
  {
   "cell_type": "code",
   "execution_count": 9,
   "metadata": {},
   "outputs": [],
   "source": [
    "df_6.to_csv('df_6.csv', sep=',')"
   ]
  },
  {
   "cell_type": "code",
   "execution_count": 10,
   "metadata": {},
   "outputs": [],
   "source": [
    "df_7.to_csv('df_7.csv', sep=',')"
   ]
  },
  {
   "cell_type": "code",
   "execution_count": 11,
   "metadata": {},
   "outputs": [],
   "source": [
    "df_8.to_csv('df_8.csv', sep=',')"
   ]
  },
  {
   "cell_type": "code",
   "execution_count": 12,
   "metadata": {},
   "outputs": [],
   "source": [
    "df_9.to_csv('df_9.csv', sep=',')"
   ]
  },
  {
   "cell_type": "code",
   "execution_count": 13,
   "metadata": {},
   "outputs": [],
   "source": [
    "### For each unique \n",
    "\n",
    "def mean_std_agg(df):\n",
    "    \n",
    "    ops_m = ['xm','ym','zm']\n",
    "    ops = ['x','y','z']\n",
    "    for i,op in enumerate(ops_m):\n",
    "        df[op] = df[ops[i]].mean()\n",
    "    \n",
    "    ops_std = ['x_std','y_std','z_std']\n",
    "    for k,op in enumerate(ops_std):\n",
    "        df[op] = df[ops[k]].std()\n",
    "    return df"
   ]
  },
  {
   "cell_type": "code",
   "execution_count": null,
   "metadata": {},
   "outputs": [],
   "source": [
    "df0 = df_0.groupby(['timestamp']).apply(mean_std_agg)\n"
   ]
  },
  {
   "cell_type": "code",
   "execution_count": null,
   "metadata": {},
   "outputs": [],
   "source": [
    "df1 = df_1.groupby(['timestamp']).apply(mean_std_agg)"
   ]
  },
  {
   "cell_type": "code",
   "execution_count": null,
   "metadata": {},
   "outputs": [],
   "source": [
    "df2 = df_2.groupby(['timestamp']).apply(mean_std_agg)"
   ]
  },
  {
   "cell_type": "code",
   "execution_count": null,
   "metadata": {},
   "outputs": [],
   "source": [
    "df3 = df_3.groupby(['timestamp']).apply(mean_std_agg)"
   ]
  },
  {
   "cell_type": "code",
   "execution_count": null,
   "metadata": {},
   "outputs": [],
   "source": [
    "df4 = df_4.groupby(['timestamp']).apply(mean_std_agg)"
   ]
  },
  {
   "cell_type": "code",
   "execution_count": null,
   "metadata": {},
   "outputs": [],
   "source": [
    "df5 = df_5.groupby(['timestamp']).apply(mean_std_agg)"
   ]
  },
  {
   "cell_type": "code",
   "execution_count": null,
   "metadata": {},
   "outputs": [],
   "source": [
    "df6 = df_6.groupby(['timestamp']).apply(mean_std_agg)"
   ]
  },
  {
   "cell_type": "code",
   "execution_count": null,
   "metadata": {},
   "outputs": [],
   "source": [
    "df7 = df_7.groupby(['timestamp']).apply(mean_std_agg)"
   ]
  },
  {
   "cell_type": "code",
   "execution_count": null,
   "metadata": {},
   "outputs": [],
   "source": [
    "df8 = df_8.groupby(['timestamp']).apply(mean_std_agg)"
   ]
  },
  {
   "cell_type": "code",
   "execution_count": null,
   "metadata": {},
   "outputs": [],
   "source": [
    "df9 = df_9.groupby(['timestamp']).apply(mean_std_agg)"
   ]
  },
  {
   "cell_type": "code",
   "execution_count": 41,
   "metadata": {},
   "outputs": [
    {
     "data": {
      "text/html": [
       "<div>\n",
       "<style scoped>\n",
       "    .dataframe tbody tr th:only-of-type {\n",
       "        vertical-align: middle;\n",
       "    }\n",
       "\n",
       "    .dataframe tbody tr th {\n",
       "        vertical-align: top;\n",
       "    }\n",
       "\n",
       "    .dataframe thead th {\n",
       "        text-align: right;\n",
       "    }\n",
       "</style>\n",
       "<table border=\"1\" class=\"dataframe\">\n",
       "  <thead>\n",
       "    <tr style=\"text-align: right;\">\n",
       "      <th></th>\n",
       "      <th>id</th>\n",
       "      <th>address</th>\n",
       "      <th>x</th>\n",
       "      <th>y</th>\n",
       "      <th>z</th>\n",
       "      <th>timestamp</th>\n",
       "      <th>xm</th>\n",
       "      <th>ym</th>\n",
       "      <th>zm</th>\n",
       "      <th>x_std</th>\n",
       "      <th>y_std</th>\n",
       "      <th>z_std</th>\n",
       "    </tr>\n",
       "  </thead>\n",
       "  <tbody>\n",
       "    <tr>\n",
       "      <th>0</th>\n",
       "      <td>5364352</td>\n",
       "      <td>-359037136983245745</td>\n",
       "      <td>9.85794</td>\n",
       "      <td>-0.549547</td>\n",
       "      <td>1.852340</td>\n",
       "      <td>2018-07-01 00:01:19.184</td>\n",
       "      <td>-6.030332</td>\n",
       "      <td>-25.466882</td>\n",
       "      <td>1.472113</td>\n",
       "      <td>11.943495</td>\n",
       "      <td>14.323799</td>\n",
       "      <td>2.805825</td>\n",
       "    </tr>\n",
       "    <tr>\n",
       "      <th>1</th>\n",
       "      <td>5364354</td>\n",
       "      <td>-359037136983245745</td>\n",
       "      <td>9.78791</td>\n",
       "      <td>-0.549547</td>\n",
       "      <td>1.846210</td>\n",
       "      <td>2018-07-01 00:01:20.444</td>\n",
       "      <td>-6.030332</td>\n",
       "      <td>-25.466882</td>\n",
       "      <td>1.472113</td>\n",
       "      <td>11.943495</td>\n",
       "      <td>14.323799</td>\n",
       "      <td>2.805825</td>\n",
       "    </tr>\n",
       "    <tr>\n",
       "      <th>2</th>\n",
       "      <td>5364356</td>\n",
       "      <td>-359037136983245745</td>\n",
       "      <td>9.69488</td>\n",
       "      <td>-0.549547</td>\n",
       "      <td>1.846210</td>\n",
       "      <td>2018-07-01 00:01:21.720</td>\n",
       "      <td>-6.030332</td>\n",
       "      <td>-25.466882</td>\n",
       "      <td>1.472113</td>\n",
       "      <td>11.943495</td>\n",
       "      <td>14.323799</td>\n",
       "      <td>2.805825</td>\n",
       "    </tr>\n",
       "    <tr>\n",
       "      <th>3</th>\n",
       "      <td>5364358</td>\n",
       "      <td>4751451578702838656</td>\n",
       "      <td>9.76520</td>\n",
       "      <td>-0.279698</td>\n",
       "      <td>1.446820</td>\n",
       "      <td>2018-07-01 00:01:24.146</td>\n",
       "      <td>182.237780</td>\n",
       "      <td>222.499561</td>\n",
       "      <td>-26.098645</td>\n",
       "      <td>2071.417147</td>\n",
       "      <td>2613.991468</td>\n",
       "      <td>1892.094121</td>\n",
       "    </tr>\n",
       "    <tr>\n",
       "      <th>4</th>\n",
       "      <td>5364359</td>\n",
       "      <td>-145401774635637016</td>\n",
       "      <td>9.24891</td>\n",
       "      <td>-0.606032</td>\n",
       "      <td>0.984861</td>\n",
       "      <td>2018-07-01 00:01:24.181</td>\n",
       "      <td>2.786885</td>\n",
       "      <td>-9.008559</td>\n",
       "      <td>3.809645</td>\n",
       "      <td>16.536861</td>\n",
       "      <td>17.667422</td>\n",
       "      <td>3.739920</td>\n",
       "    </tr>\n",
       "  </tbody>\n",
       "</table>\n",
       "</div>"
      ],
      "text/plain": [
       "        id              address        x         y         z  \\\n",
       "0  5364352  -359037136983245745  9.85794 -0.549547  1.852340   \n",
       "1  5364354  -359037136983245745  9.78791 -0.549547  1.846210   \n",
       "2  5364356  -359037136983245745  9.69488 -0.549547  1.846210   \n",
       "3  5364358  4751451578702838656  9.76520 -0.279698  1.446820   \n",
       "4  5364359  -145401774635637016  9.24891 -0.606032  0.984861   \n",
       "\n",
       "                timestamp          xm          ym         zm        x_std  \\\n",
       "0 2018-07-01 00:01:19.184   -6.030332  -25.466882   1.472113    11.943495   \n",
       "1 2018-07-01 00:01:20.444   -6.030332  -25.466882   1.472113    11.943495   \n",
       "2 2018-07-01 00:01:21.720   -6.030332  -25.466882   1.472113    11.943495   \n",
       "3 2018-07-01 00:01:24.146  182.237780  222.499561 -26.098645  2071.417147   \n",
       "4 2018-07-01 00:01:24.181    2.786885   -9.008559   3.809645    16.536861   \n",
       "\n",
       "         y_std        z_std  \n",
       "0    14.323799     2.805825  \n",
       "1    14.323799     2.805825  \n",
       "2    14.323799     2.805825  \n",
       "3  2613.991468  1892.094121  \n",
       "4    17.667422     3.739920  "
      ]
     },
     "execution_count": 41,
     "metadata": {},
     "output_type": "execute_result"
    }
   ],
   "source": [
    "df1.head()"
   ]
  },
  {
   "cell_type": "markdown",
   "metadata": {},
   "source": [
    "### SAVE THE DATA AS CSV : PLAY SAFE ;)"
   ]
  },
  {
   "cell_type": "markdown",
   "metadata": {},
   "source": [
    "### MEAN AND STANDARD DEVIATION OF X,Y,Z VALUES AND AGGREGATE THEM BACK INTO NEW DATAFRAME"
   ]
  },
  {
   "cell_type": "code",
   "execution_count": 42,
   "metadata": {},
   "outputs": [],
   "source": [
    "df1.to_csv('position_history_new_starts_mstd.csv', sep=',')"
   ]
  },
  {
   "cell_type": "code",
   "execution_count": null,
   "metadata": {},
   "outputs": [],
   "source": [
    "# df1 = pd.read_csv('position_history_new_starts_mstd.csv')"
   ]
  },
  {
   "cell_type": "code",
   "execution_count": 35,
   "metadata": {},
   "outputs": [],
   "source": [
    "df1 = df1.set_index('timestamp')"
   ]
  },
  {
   "cell_type": "code",
   "execution_count": 39,
   "metadata": {},
   "outputs": [],
   "source": [
    "df1.tail()"
   ]
  },
  {
   "cell_type": "markdown",
   "metadata": {},
   "source": [
    "## SPLIT THE DATA INTO TRAIN AND TEST"
   ]
  },
  {
   "cell_type": "code",
   "execution_count": 77,
   "metadata": {},
   "outputs": [],
   "source": [
    "from sklearn.model_selection import train_test_split\n",
    "\n",
    "data_train,data_test = train_test_split(df1, test_size=0.2, shuffle=False)"
   ]
  },
  {
   "cell_type": "code",
   "execution_count": 83,
   "metadata": {},
   "outputs": [
    {
     "data": {
      "text/html": [
       "<div>\n",
       "<style scoped>\n",
       "    .dataframe tbody tr th:only-of-type {\n",
       "        vertical-align: middle;\n",
       "    }\n",
       "\n",
       "    .dataframe tbody tr th {\n",
       "        vertical-align: top;\n",
       "    }\n",
       "\n",
       "    .dataframe thead th {\n",
       "        text-align: right;\n",
       "    }\n",
       "</style>\n",
       "<table border=\"1\" class=\"dataframe\">\n",
       "  <thead>\n",
       "    <tr style=\"text-align: right;\">\n",
       "      <th></th>\n",
       "      <th>address</th>\n",
       "      <th>x</th>\n",
       "      <th>y</th>\n",
       "      <th>z</th>\n",
       "      <th>xm</th>\n",
       "      <th>ym</th>\n",
       "      <th>zm</th>\n",
       "      <th>x_std</th>\n",
       "      <th>y_std</th>\n",
       "      <th>z_std</th>\n",
       "    </tr>\n",
       "    <tr>\n",
       "      <th>timestamp</th>\n",
       "      <th></th>\n",
       "      <th></th>\n",
       "      <th></th>\n",
       "      <th></th>\n",
       "      <th></th>\n",
       "      <th></th>\n",
       "      <th></th>\n",
       "      <th></th>\n",
       "      <th></th>\n",
       "      <th></th>\n",
       "    </tr>\n",
       "  </thead>\n",
       "  <tbody>\n",
       "    <tr>\n",
       "      <th>2018-09-01 04:17:12.646</th>\n",
       "      <td>8405123468908889237</td>\n",
       "      <td>-40.4185</td>\n",
       "      <td>-60.3757</td>\n",
       "      <td>0.035010</td>\n",
       "      <td>-39790.852695</td>\n",
       "      <td>19651.072344</td>\n",
       "      <td>-85765.135852</td>\n",
       "      <td>170258.707641</td>\n",
       "      <td>84631.752343</td>\n",
       "      <td>366666.301581</td>\n",
       "    </tr>\n",
       "    <tr>\n",
       "      <th>2018-09-01 04:17:13.904</th>\n",
       "      <td>8405123468908889237</td>\n",
       "      <td>-40.4185</td>\n",
       "      <td>-60.4327</td>\n",
       "      <td>0.053147</td>\n",
       "      <td>-39790.852695</td>\n",
       "      <td>19651.072344</td>\n",
       "      <td>-85765.135852</td>\n",
       "      <td>170258.707641</td>\n",
       "      <td>84631.752343</td>\n",
       "      <td>366666.301581</td>\n",
       "    </tr>\n",
       "    <tr>\n",
       "      <th>2018-09-01 04:17:19.050</th>\n",
       "      <td>8405123468908889237</td>\n",
       "      <td>-40.4185</td>\n",
       "      <td>-60.4157</td>\n",
       "      <td>0.053147</td>\n",
       "      <td>-39790.852695</td>\n",
       "      <td>19651.072344</td>\n",
       "      <td>-85765.135852</td>\n",
       "      <td>170258.707641</td>\n",
       "      <td>84631.752343</td>\n",
       "      <td>366666.301581</td>\n",
       "    </tr>\n",
       "    <tr>\n",
       "      <th>2018-09-01 04:17:20.429</th>\n",
       "      <td>8405123468908889237</td>\n",
       "      <td>-40.4185</td>\n",
       "      <td>-60.4569</td>\n",
       "      <td>0.053147</td>\n",
       "      <td>-39790.852695</td>\n",
       "      <td>19651.072344</td>\n",
       "      <td>-85765.135852</td>\n",
       "      <td>170258.707641</td>\n",
       "      <td>84631.752343</td>\n",
       "      <td>366666.301581</td>\n",
       "    </tr>\n",
       "    <tr>\n",
       "      <th>2018-09-01 04:17:21.699</th>\n",
       "      <td>8405123468908889237</td>\n",
       "      <td>-40.2439</td>\n",
       "      <td>-61.0378</td>\n",
       "      <td>0.053147</td>\n",
       "      <td>-39790.852695</td>\n",
       "      <td>19651.072344</td>\n",
       "      <td>-85765.135852</td>\n",
       "      <td>170258.707641</td>\n",
       "      <td>84631.752343</td>\n",
       "      <td>366666.301581</td>\n",
       "    </tr>\n",
       "    <tr>\n",
       "      <th>2018-09-01 04:17:22.961</th>\n",
       "      <td>8405123468908889237</td>\n",
       "      <td>-40.2305</td>\n",
       "      <td>-61.0378</td>\n",
       "      <td>0.053147</td>\n",
       "      <td>-39790.852695</td>\n",
       "      <td>19651.072344</td>\n",
       "      <td>-85765.135852</td>\n",
       "      <td>170258.707641</td>\n",
       "      <td>84631.752343</td>\n",
       "      <td>366666.301581</td>\n",
       "    </tr>\n",
       "    <tr>\n",
       "      <th>2018-09-01 04:17:25.513</th>\n",
       "      <td>8405123468908889237</td>\n",
       "      <td>-40.2305</td>\n",
       "      <td>-60.5563</td>\n",
       "      <td>0.053147</td>\n",
       "      <td>-39790.852695</td>\n",
       "      <td>19651.072344</td>\n",
       "      <td>-85765.135852</td>\n",
       "      <td>170258.707641</td>\n",
       "      <td>84631.752343</td>\n",
       "      <td>366666.301581</td>\n",
       "    </tr>\n",
       "    <tr>\n",
       "      <th>2018-09-01 04:17:26.770</th>\n",
       "      <td>8405123468908889237</td>\n",
       "      <td>-40.2305</td>\n",
       "      <td>-60.5145</td>\n",
       "      <td>0.053147</td>\n",
       "      <td>-39790.852695</td>\n",
       "      <td>19651.072344</td>\n",
       "      <td>-85765.135852</td>\n",
       "      <td>170258.707641</td>\n",
       "      <td>84631.752343</td>\n",
       "      <td>366666.301581</td>\n",
       "    </tr>\n",
       "    <tr>\n",
       "      <th>2018-09-01 04:17:30.493</th>\n",
       "      <td>8405123468908889237</td>\n",
       "      <td>-40.2305</td>\n",
       "      <td>-60.5145</td>\n",
       "      <td>0.075185</td>\n",
       "      <td>-39790.852695</td>\n",
       "      <td>19651.072344</td>\n",
       "      <td>-85765.135852</td>\n",
       "      <td>170258.707641</td>\n",
       "      <td>84631.752343</td>\n",
       "      <td>366666.301581</td>\n",
       "    </tr>\n",
       "    <tr>\n",
       "      <th>2018-09-01 04:17:31.773</th>\n",
       "      <td>8405123468908889237</td>\n",
       "      <td>-40.2305</td>\n",
       "      <td>-60.6496</td>\n",
       "      <td>0.075185</td>\n",
       "      <td>-39790.852695</td>\n",
       "      <td>19651.072344</td>\n",
       "      <td>-85765.135852</td>\n",
       "      <td>170258.707641</td>\n",
       "      <td>84631.752343</td>\n",
       "      <td>366666.301581</td>\n",
       "    </tr>\n",
       "  </tbody>\n",
       "</table>\n",
       "</div>"
      ],
      "text/plain": [
       "                                     address        x        y         z  \\\n",
       "timestamp                                                                  \n",
       "2018-09-01 04:17:12.646  8405123468908889237 -40.4185 -60.3757  0.035010   \n",
       "2018-09-01 04:17:13.904  8405123468908889237 -40.4185 -60.4327  0.053147   \n",
       "2018-09-01 04:17:19.050  8405123468908889237 -40.4185 -60.4157  0.053147   \n",
       "2018-09-01 04:17:20.429  8405123468908889237 -40.4185 -60.4569  0.053147   \n",
       "2018-09-01 04:17:21.699  8405123468908889237 -40.2439 -61.0378  0.053147   \n",
       "2018-09-01 04:17:22.961  8405123468908889237 -40.2305 -61.0378  0.053147   \n",
       "2018-09-01 04:17:25.513  8405123468908889237 -40.2305 -60.5563  0.053147   \n",
       "2018-09-01 04:17:26.770  8405123468908889237 -40.2305 -60.5145  0.053147   \n",
       "2018-09-01 04:17:30.493  8405123468908889237 -40.2305 -60.5145  0.075185   \n",
       "2018-09-01 04:17:31.773  8405123468908889237 -40.2305 -60.6496  0.075185   \n",
       "\n",
       "                                   xm            ym            zm  \\\n",
       "timestamp                                                           \n",
       "2018-09-01 04:17:12.646 -39790.852695  19651.072344 -85765.135852   \n",
       "2018-09-01 04:17:13.904 -39790.852695  19651.072344 -85765.135852   \n",
       "2018-09-01 04:17:19.050 -39790.852695  19651.072344 -85765.135852   \n",
       "2018-09-01 04:17:20.429 -39790.852695  19651.072344 -85765.135852   \n",
       "2018-09-01 04:17:21.699 -39790.852695  19651.072344 -85765.135852   \n",
       "2018-09-01 04:17:22.961 -39790.852695  19651.072344 -85765.135852   \n",
       "2018-09-01 04:17:25.513 -39790.852695  19651.072344 -85765.135852   \n",
       "2018-09-01 04:17:26.770 -39790.852695  19651.072344 -85765.135852   \n",
       "2018-09-01 04:17:30.493 -39790.852695  19651.072344 -85765.135852   \n",
       "2018-09-01 04:17:31.773 -39790.852695  19651.072344 -85765.135852   \n",
       "\n",
       "                                 x_std         y_std          z_std  \n",
       "timestamp                                                            \n",
       "2018-09-01 04:17:12.646  170258.707641  84631.752343  366666.301581  \n",
       "2018-09-01 04:17:13.904  170258.707641  84631.752343  366666.301581  \n",
       "2018-09-01 04:17:19.050  170258.707641  84631.752343  366666.301581  \n",
       "2018-09-01 04:17:20.429  170258.707641  84631.752343  366666.301581  \n",
       "2018-09-01 04:17:21.699  170258.707641  84631.752343  366666.301581  \n",
       "2018-09-01 04:17:22.961  170258.707641  84631.752343  366666.301581  \n",
       "2018-09-01 04:17:25.513  170258.707641  84631.752343  366666.301581  \n",
       "2018-09-01 04:17:26.770  170258.707641  84631.752343  366666.301581  \n",
       "2018-09-01 04:17:30.493  170258.707641  84631.752343  366666.301581  \n",
       "2018-09-01 04:17:31.773  170258.707641  84631.752343  366666.301581  "
      ]
     },
     "execution_count": 83,
     "metadata": {},
     "output_type": "execute_result"
    }
   ],
   "source": [
    "data_train.tail(10)"
   ]
  },
  {
   "cell_type": "code",
   "execution_count": 79,
   "metadata": {},
   "outputs": [],
   "source": [
    "data_train_f = data_train.copy()"
   ]
  },
  {
   "cell_type": "code",
   "execution_count": 80,
   "metadata": {},
   "outputs": [],
   "source": [
    "data_train_f = data_train_f.sort_values(by='timestamp')"
   ]
  },
  {
   "cell_type": "code",
   "execution_count": 81,
   "metadata": {},
   "outputs": [
    {
     "data": {
      "text/html": [
       "<div>\n",
       "<style scoped>\n",
       "    .dataframe tbody tr th:only-of-type {\n",
       "        vertical-align: middle;\n",
       "    }\n",
       "\n",
       "    .dataframe tbody tr th {\n",
       "        vertical-align: top;\n",
       "    }\n",
       "\n",
       "    .dataframe thead th {\n",
       "        text-align: right;\n",
       "    }\n",
       "</style>\n",
       "<table border=\"1\" class=\"dataframe\">\n",
       "  <thead>\n",
       "    <tr style=\"text-align: right;\">\n",
       "      <th></th>\n",
       "      <th>address</th>\n",
       "      <th>x</th>\n",
       "      <th>y</th>\n",
       "      <th>z</th>\n",
       "      <th>xm</th>\n",
       "      <th>ym</th>\n",
       "      <th>zm</th>\n",
       "      <th>x_std</th>\n",
       "      <th>y_std</th>\n",
       "      <th>z_std</th>\n",
       "    </tr>\n",
       "    <tr>\n",
       "      <th>timestamp</th>\n",
       "      <th></th>\n",
       "      <th></th>\n",
       "      <th></th>\n",
       "      <th></th>\n",
       "      <th></th>\n",
       "      <th></th>\n",
       "      <th></th>\n",
       "      <th></th>\n",
       "      <th></th>\n",
       "      <th></th>\n",
       "    </tr>\n",
       "  </thead>\n",
       "  <tbody>\n",
       "    <tr>\n",
       "      <th>2018-07-01 00:01:19.184</th>\n",
       "      <td>-359037136983245745</td>\n",
       "      <td>9.85794</td>\n",
       "      <td>-0.549547</td>\n",
       "      <td>1.85234</td>\n",
       "      <td>-6.030332</td>\n",
       "      <td>-25.466882</td>\n",
       "      <td>1.472113</td>\n",
       "      <td>11.943495</td>\n",
       "      <td>14.323799</td>\n",
       "      <td>2.805825</td>\n",
       "    </tr>\n",
       "    <tr>\n",
       "      <th>2018-07-01 00:01:20.444</th>\n",
       "      <td>-359037136983245745</td>\n",
       "      <td>9.78791</td>\n",
       "      <td>-0.549547</td>\n",
       "      <td>1.84621</td>\n",
       "      <td>-6.030332</td>\n",
       "      <td>-25.466882</td>\n",
       "      <td>1.472113</td>\n",
       "      <td>11.943495</td>\n",
       "      <td>14.323799</td>\n",
       "      <td>2.805825</td>\n",
       "    </tr>\n",
       "    <tr>\n",
       "      <th>2018-07-01 00:01:21.720</th>\n",
       "      <td>-359037136983245745</td>\n",
       "      <td>9.69488</td>\n",
       "      <td>-0.549547</td>\n",
       "      <td>1.84621</td>\n",
       "      <td>-6.030332</td>\n",
       "      <td>-25.466882</td>\n",
       "      <td>1.472113</td>\n",
       "      <td>11.943495</td>\n",
       "      <td>14.323799</td>\n",
       "      <td>2.805825</td>\n",
       "    </tr>\n",
       "    <tr>\n",
       "      <th>2018-07-01 00:01:24.189</th>\n",
       "      <td>-359037136983245745</td>\n",
       "      <td>9.66634</td>\n",
       "      <td>-0.549547</td>\n",
       "      <td>1.84621</td>\n",
       "      <td>-6.030332</td>\n",
       "      <td>-25.466882</td>\n",
       "      <td>1.472113</td>\n",
       "      <td>11.943495</td>\n",
       "      <td>14.323799</td>\n",
       "      <td>2.805825</td>\n",
       "    </tr>\n",
       "    <tr>\n",
       "      <th>2018-07-01 00:01:25.444</th>\n",
       "      <td>-359037136983245745</td>\n",
       "      <td>9.63370</td>\n",
       "      <td>-0.549547</td>\n",
       "      <td>1.84621</td>\n",
       "      <td>-6.030332</td>\n",
       "      <td>-25.466882</td>\n",
       "      <td>1.472113</td>\n",
       "      <td>11.943495</td>\n",
       "      <td>14.323799</td>\n",
       "      <td>2.805825</td>\n",
       "    </tr>\n",
       "  </tbody>\n",
       "</table>\n",
       "</div>"
      ],
      "text/plain": [
       "                                    address        x         y        z  \\\n",
       "timestamp                                                                 \n",
       "2018-07-01 00:01:19.184 -359037136983245745  9.85794 -0.549547  1.85234   \n",
       "2018-07-01 00:01:20.444 -359037136983245745  9.78791 -0.549547  1.84621   \n",
       "2018-07-01 00:01:21.720 -359037136983245745  9.69488 -0.549547  1.84621   \n",
       "2018-07-01 00:01:24.189 -359037136983245745  9.66634 -0.549547  1.84621   \n",
       "2018-07-01 00:01:25.444 -359037136983245745  9.63370 -0.549547  1.84621   \n",
       "\n",
       "                               xm         ym        zm      x_std      y_std  \\\n",
       "timestamp                                                                      \n",
       "2018-07-01 00:01:19.184 -6.030332 -25.466882  1.472113  11.943495  14.323799   \n",
       "2018-07-01 00:01:20.444 -6.030332 -25.466882  1.472113  11.943495  14.323799   \n",
       "2018-07-01 00:01:21.720 -6.030332 -25.466882  1.472113  11.943495  14.323799   \n",
       "2018-07-01 00:01:24.189 -6.030332 -25.466882  1.472113  11.943495  14.323799   \n",
       "2018-07-01 00:01:25.444 -6.030332 -25.466882  1.472113  11.943495  14.323799   \n",
       "\n",
       "                            z_std  \n",
       "timestamp                          \n",
       "2018-07-01 00:01:19.184  2.805825  \n",
       "2018-07-01 00:01:20.444  2.805825  \n",
       "2018-07-01 00:01:21.720  2.805825  \n",
       "2018-07-01 00:01:24.189  2.805825  \n",
       "2018-07-01 00:01:25.444  2.805825  "
      ]
     },
     "execution_count": 81,
     "metadata": {},
     "output_type": "execute_result"
    }
   ],
   "source": [
    "data_train_f.head()"
   ]
  },
  {
   "cell_type": "code",
   "execution_count": null,
   "metadata": {},
   "outputs": [],
   "source": []
  }
 ],
 "metadata": {
  "kernelspec": {
   "display_name": "Python 3",
   "language": "python",
   "name": "python3"
  },
  "language_info": {
   "codemirror_mode": {
    "name": "ipython",
    "version": 3
   },
   "file_extension": ".py",
   "mimetype": "text/x-python",
   "name": "python",
   "nbconvert_exporter": "python",
   "pygments_lexer": "ipython3",
   "version": "3.7.0"
  }
 },
 "nbformat": 4,
 "nbformat_minor": 2
}
