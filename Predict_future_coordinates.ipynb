{
 "cells": [
  {
   "cell_type": "markdown",
   "metadata": {},
   "source": [
    "### DATA PREPROCESING"
   ]
  },
  {
   "cell_type": "code",
   "execution_count": 1,
   "metadata": {},
   "outputs": [],
   "source": [
    "import pandas as pd\n",
    "\n",
    "# Read file\n",
    "tsv_file='FILENAME.tsv'\n",
    "\n",
    "# Create datafram\n",
    "df=pd.read_table(tsv_file,sep='\\t')\n",
    "\n",
    "### COnvert datetime into standard format\n",
    "df['timestamp'] = pd.to_datetime(df['timestamp'],unit='ms')"
   ]
  },
  {
   "cell_type": "code",
   "execution_count": 28,
   "metadata": {},
   "outputs": [],
   "source": [
    "### COnvert date time into standard format\n",
    "df['timestamp'] = pd.to_datetime(df['timestamp'],unit='ms')"
   ]
  },
  {
   "cell_type": "markdown",
   "metadata": {},
   "source": [
    "# SAVE THE DATAFRAME AS CSV"
   ]
  },
  {
   "cell_type": "code",
   "execution_count": null,
   "metadata": {},
   "outputs": [],
   "source": [
    "df.to_csv('position_history_new_starts.csv', sep=',')"
   ]
  },
  {
   "cell_type": "code",
   "execution_count": 30,
   "metadata": {},
   "outputs": [
    {
     "data": {
      "text/html": [
       "<div>\n",
       "<style scoped>\n",
       "    .dataframe tbody tr th:only-of-type {\n",
       "        vertical-align: middle;\n",
       "    }\n",
       "\n",
       "    .dataframe tbody tr th {\n",
       "        vertical-align: top;\n",
       "    }\n",
       "\n",
       "    .dataframe thead th {\n",
       "        text-align: right;\n",
       "    }\n",
       "</style>\n",
       "<table border=\"1\" class=\"dataframe\">\n",
       "  <thead>\n",
       "    <tr style=\"text-align: right;\">\n",
       "      <th></th>\n",
       "      <th>id</th>\n",
       "      <th>address</th>\n",
       "      <th>x</th>\n",
       "      <th>y</th>\n",
       "      <th>z</th>\n",
       "      <th>timestamp</th>\n",
       "    </tr>\n",
       "  </thead>\n",
       "  <tbody>\n",
       "    <tr>\n",
       "      <th>0</th>\n",
       "      <td>5364352</td>\n",
       "      <td>-359037136983245745</td>\n",
       "      <td>9.85794</td>\n",
       "      <td>-0.549547</td>\n",
       "      <td>1.852340</td>\n",
       "      <td>2018-07-01 00:01:19.184</td>\n",
       "    </tr>\n",
       "    <tr>\n",
       "      <th>1</th>\n",
       "      <td>5364354</td>\n",
       "      <td>-359037136983245745</td>\n",
       "      <td>9.78791</td>\n",
       "      <td>-0.549547</td>\n",
       "      <td>1.846210</td>\n",
       "      <td>2018-07-01 00:01:20.444</td>\n",
       "    </tr>\n",
       "    <tr>\n",
       "      <th>2</th>\n",
       "      <td>5364356</td>\n",
       "      <td>-359037136983245745</td>\n",
       "      <td>9.69488</td>\n",
       "      <td>-0.549547</td>\n",
       "      <td>1.846210</td>\n",
       "      <td>2018-07-01 00:01:21.720</td>\n",
       "    </tr>\n",
       "    <tr>\n",
       "      <th>3</th>\n",
       "      <td>5364358</td>\n",
       "      <td>4751451578702838656</td>\n",
       "      <td>9.76520</td>\n",
       "      <td>-0.279698</td>\n",
       "      <td>1.446820</td>\n",
       "      <td>2018-07-01 00:01:24.146</td>\n",
       "    </tr>\n",
       "    <tr>\n",
       "      <th>4</th>\n",
       "      <td>5364359</td>\n",
       "      <td>-145401774635637016</td>\n",
       "      <td>9.24891</td>\n",
       "      <td>-0.606032</td>\n",
       "      <td>0.984861</td>\n",
       "      <td>2018-07-01 00:01:24.181</td>\n",
       "    </tr>\n",
       "  </tbody>\n",
       "</table>\n",
       "</div>"
      ],
      "text/plain": [
       "        id              address        x         y         z  \\\n",
       "0  5364352  -359037136983245745  9.85794 -0.549547  1.852340   \n",
       "1  5364354  -359037136983245745  9.78791 -0.549547  1.846210   \n",
       "2  5364356  -359037136983245745  9.69488 -0.549547  1.846210   \n",
       "3  5364358  4751451578702838656  9.76520 -0.279698  1.446820   \n",
       "4  5364359  -145401774635637016  9.24891 -0.606032  0.984861   \n",
       "\n",
       "                timestamp  \n",
       "0 2018-07-01 00:01:19.184  \n",
       "1 2018-07-01 00:01:20.444  \n",
       "2 2018-07-01 00:01:21.720  \n",
       "3 2018-07-01 00:01:24.146  \n",
       "4 2018-07-01 00:01:24.181  "
      ]
     },
     "execution_count": 30,
     "metadata": {},
     "output_type": "execute_result"
    }
   ],
   "source": [
    "df.head()"
   ]
  },
  {
   "cell_type": "code",
   "execution_count": null,
   "metadata": {},
   "outputs": [],
   "source": []
  }
 ],
 "metadata": {
  "kernelspec": {
   "display_name": "Python 3",
   "language": "python",
   "name": "python3"
  },
  "language_info": {
   "codemirror_mode": {
    "name": "ipython",
    "version": 3
   },
   "file_extension": ".py",
   "mimetype": "text/x-python",
   "name": "python",
   "nbconvert_exporter": "python",
   "pygments_lexer": "ipython3",
   "version": "3.7.0"
  }
 },
 "nbformat": 4,
 "nbformat_minor": 2
}
